{
 "cells": [
  {
   "cell_type": "code",
   "execution_count": 2,
   "id": "patient-porter",
   "metadata": {},
   "outputs": [],
   "source": [
    "#!/usr/bin/env python\n",
    "# -*- coding: utf-8 -*-\n",
    "\n",
    "import json\n",
    "from bs4 import BeautifulSoup\n",
    "\n",
    "import requests"
   ]
  },
  {
   "cell_type": "code",
   "execution_count": 9,
   "id": "invalid-carter",
   "metadata": {},
   "outputs": [],
   "source": [
    "todas_campanhas = []\n",
    "\n",
    "def carregar_grandes_nome(url):\n",
    "    html = requests.get(url).content\n",
    "\n",
    "    soup = BeautifulSoup(html, 'html.parser')\n",
    "    lista_h3 = soup.find_all(\"h3\")\n",
    "    for i in lista_h3:\n",
    "        campanha = {}\n",
    "        link_campanha = i.a.get(\"href\") \n",
    "        print(link_campanha)\n",
    "        html_campanha = requests.get(link_campanha).content\n",
    "        soup_campanha = BeautifulSoup(html_campanha, 'html.parser')\n",
    "        titulo = soup_campanha.find(\"h1\", class_=\"entry-title\").text\n",
    "        campanha['titulo'] = titulo\n",
    "        campanha['link'] = link_campanha\n",
    "        content = soup_campanha.find(\"div\", class_=\"td-post-content\")\n",
    "        campanha['conteudo'] = content.get_text()\n",
    "        todas_campanhas.append(campanha)"
   ]
  },
  {
   "cell_type": "code",
   "execution_count": 15,
   "id": "different-fleece",
   "metadata": {},
   "outputs": [
    {
     "name": "stdout",
     "output_type": "stream",
     "text": [
      "https://grandesnomesdapropaganda.com.br/anunciantes/campanha-valoriza-servico-que-leva-o-chopp-brahma-dos-bares-para-os-lares-de-todo-o-brasil/\n",
      "https://grandesnomesdapropaganda.com.br/anunciantes/em-parceria-com-o-internacional-brahma-cria-prelecao-especial-para-a-final-da-copa-do-brasil/\n",
      "https://grandesnomesdapropaganda.com.br/anunciantes/brahma-exalta-tradicao-de-seu-processo-de-fabricacao-em-nova-campanha/\n",
      "https://grandesnomesdapropaganda.com.br/anunciantes/brahma-reforca-parceria-com-o-vasco-e-investe-em-melhorias-em-sao-januario/\n",
      "https://grandesnomesdapropaganda.com.br/anunciantes/barretos-para-sempre-brahma-celebra-memorias-de-quem-vive-a-maior-festa-do-sertanejo-do-brasil/\n",
      "https://grandesnomesdapropaganda.com.br/anunciantes/para-o-dia-dos-pais-brahma-propoe-um-brinde-ao-melhor-pai-que-voce-pode-ser/\n",
      "https://grandesnomesdapropaganda.com.br/anunciantes/brahma-homenageia-gaucho-da-copa-e-se-alia-a-seus-filhos-para-seguirem-a-selecao-brasileira/\n",
      "https://grandesnomesdapropaganda.com.br/anunciantes/brahma-cria-lata-especial-para-a-copa-america-brasil-2019/\n",
      "https://grandesnomesdapropaganda.com.br/anunciantes/marta-estrela-campanha-da-brahma-assinada-pela-africa/\n",
      "https://grandesnomesdapropaganda.com.br/anunciantes/o-proximo-no1-villamix-estreia-reality-show-para-escolher-a-proxima-estrela-da-musica/\n",
      "https://grandesnomesdapropaganda.com.br/anunciantes/arena-no1-brahma-vai-unir-a-torcida-brasileira-nos-jogos-da-copa-america/\n",
      "https://grandesnomesdapropaganda.com.br/anunciantes/cervejaria-brahma-brinda-dia-das-maes-com-depoimentos-reias/\n",
      "https://grandesnomesdapropaganda.com.br/anunciantes/brahma-renova-contrato-com-o-fluminense-ate-2023/\n",
      "https://grandesnomesdapropaganda.com.br/agencias/em-novo-comercial-africa-e-brahma-celebram-futebol-brasileiro/\n",
      "https://grandesnomesdapropaganda.com.br/anunciantes/brahma-cria-clube-n1-e-promove-experiencias-unicas-para-torcedores/\n",
      "https://grandesnomesdapropaganda.com.br/anunciantes/villamix-festival-e-brahma-reunem-astros-da-musica-no-maior-reality-show-sertanejo-do-brasil/\n",
      "https://grandesnomesdapropaganda.com.br/anunciantes/brahma-brinda-ao-que-realmente-importa-em-nova-campanha/\n",
      "https://grandesnomesdapropaganda.com.br/anunciantes/brahma-e-a-nova-patrocinadora-da-conmebol-copa-america-brasil-2019/\n",
      "https://grandesnomesdapropaganda.com.br/anunciantes/em-acao-brahma-inspira-meme-de-jenifer-e-gabriel-diniz-canta-nova-versao-do-hit-do-verao/\n",
      "https://grandesnomesdapropaganda.com.br/anunciantes/brahma-e-vice-lancam-serie-com-historias-pouco-conhecidas-no-futebol/\n",
      "https://grandesnomesdapropaganda.com.br/anunciantes/brahma-extra-tem-sua-primeira-turma-do-curso-sommeliers-extraordinarios/\n",
      "https://grandesnomesdapropaganda.com.br/anunciantes/cervejaria-brahma-lanca-sua-mais-nova-cerveja-a-premiada-heller-bock/\n",
      "https://grandesnomesdapropaganda.com.br/anunciantes/brahma-leva-especialistas-a-campo-de-cevada-em-passo-fundo-para-tirar-duvidas-dos-consumidores/\n",
      "https://grandesnomesdapropaganda.com.br/agencias/africa-e-brahma-celebram-os-130-anos-da-marca-com-campanha/\n",
      "https://grandesnomesdapropaganda.com.br/anunciantes/brahma-renova-patrocinio-com-santos-futebol-clube-por-um-ano/\n",
      "https://grandesnomesdapropaganda.com.br/anunciantes/festa-do-peao-de-barretos-e-brahma-renovam-parceria/\n",
      "https://grandesnomesdapropaganda.com.br/anunciantes/outback-steakhouse-e-brahma-se-unem-em-acao-do-dia-do-amigo/\n",
      "https://grandesnomesdapropaganda.com.br/anunciantes/brahma-leva-torcedor-russo-amuleto-para-torcer-pela-selecao-em-kazan/\n",
      "https://grandesnomesdapropaganda.com.br/agencias/mchecon-executa-cenografia-da-arena-brahma-no1/\n",
      "https://grandesnomesdapropaganda.com.br/anunciantes/para-interagir-com-o-torcedor-brahma-cria-fabrica-de-conteudo/\n",
      "https://grandesnomesdapropaganda.com.br/anunciantes/brahma-transmite-jogos-do-brasil-em-pontos-de-onibus-e-banca-de-revista/\n",
      "https://grandesnomesdapropaganda.com.br/anunciantes/arena-no1-brahma-vai-unir-torcida-para-curtir-transmissao-dos-jogos-da-copa/\n",
      "https://grandesnomesdapropaganda.com.br/anunciantes/brahma-muda-seu-nome-para-brasil-em-acao-de-copa-do-mundo/\n",
      "https://grandesnomesdapropaganda.com.br/anunciantes/brahma-une-daniela-mercury-e-iza-em-hino-para-copa-do-mundo-2018/\n",
      "https://grandesnomesdapropaganda.com.br/agencias/com-criacao-da-africa-brahma-lanca-campanha-sobre-copa-do-mundo/\n",
      "https://grandesnomesdapropaganda.com.br/anunciantes/brahma-fara-o-maior-circuito-brahma-sertanejo-da-sua-historia/\n",
      "https://grandesnomesdapropaganda.com.br/anunciantes/camarote-bar-brahma-sao-paulo-anuncia-tema-para-o-carnaval-2018/\n",
      "https://grandesnomesdapropaganda.com.br/anunciantes/brahma-lanca-cerveja-especial-para-celebrar-o-oktoberfest/\n",
      "https://grandesnomesdapropaganda.com.br/anunciantes/cerveja-brahma-lanca-documentario-que-homenageia-a-historia-da-festa-do-peao-de-barretos-e-a-musica-sertaneja/\n",
      "https://grandesnomesdapropaganda.com.br/anunciantes/em-novo-comercial-com-funcionario-brahma-celebra-momentos-que-fazem-voce-se-sentir-especial/\n",
      "https://grandesnomesdapropaganda.com.br/anunciantes/brahma-celebra-momentos-que-fazem-voce-se-sentir-especial/\n",
      "https://grandesnomesdapropaganda.com.br/anunciantes/brahma-anuncia-o-especialista-em-tirar-chopp/\n",
      "https://grandesnomesdapropaganda.com.br/produtora/movieart-produz-campanha-digital-de-brahma-chopp/\n",
      "https://grandesnomesdapropaganda.com.br/anunciantes/brahma-lanca-promocao-que-possibilita-aos-consumidores-acompanhar-todos-os-jogos-na-reta-final-do-futebol-brasileiro/\n",
      "https://grandesnomesdapropaganda.com.br/anunciantes/brahma-promove-concurso-para-eleger-o-melhor-tirador-de-chopp-do-pais/\n",
      "https://grandesnomesdapropaganda.com.br/anunciantes/mineirao-anuncia-brahma-como-cerveja-oficial/\n",
      "https://grandesnomesdapropaganda.com.br/anunciantes/em-acao-da-brahma-lucas-lucco-homenageia-fa/\n",
      "https://grandesnomesdapropaganda.com.br/anunciantes/brahma-conta-128-anos-de-historia-em-nove-rotulos/\n",
      "https://grandesnomesdapropaganda.com.br/anunciantes/chopp-brahma-tem-coral-de-garcons-em-novo-comercial/\n",
      "https://grandesnomesdapropaganda.com.br/anunciantes/brahma-mostra-que-cerveja-sem-alcool-e-cerveja-de-verdade/\n",
      "https://grandesnomesdapropaganda.com.br/anunciantes/brahma-extra-destaca-amor-pelo-que-se-faz-em-nova-campanha/\n",
      "https://grandesnomesdapropaganda.com.br/anunciantes/brahma-lanca-plataformas-participativas-com-conteudos-exclusivos/\n",
      "https://grandesnomesdapropaganda.com.br/anunciantes/brahma-celebra-a-paixao-em-fazer-cerveja/\n",
      "https://grandesnomesdapropaganda.com.br/agencias/paim-conquista-conta-regional-das-marcas-skol-e-brahma/\n",
      "https://grandesnomesdapropaganda.com.br/anunciantes/29181/\n",
      "https://grandesnomesdapropaganda.com.br/anunciantes/artistas-surpreendem-fas-em-acao-do-brahma-valley/\n",
      "https://grandesnomesdapropaganda.com.br/anunciantes/brahma-valley-lanca-campanha-em-clima-de-contagem-regressiva/\n",
      "https://grandesnomesdapropaganda.com.br/anunciantes/brahma-lanca-latas-comemorativas/\n",
      "https://grandesnomesdapropaganda.com.br/anunciantes/brahma-promove-a-corrida-do-ouro/\n",
      "https://grandesnomesdapropaganda.com.br/anunciantes/brahma-estreia-novo-posicionamento/\n",
      "84\n"
     ]
    }
   ],
   "source": [
    "carregar_grandes_nome(\"https://grandesnomesdapropaganda.com.br/tag/brahma/\")\n",
    "carregar_grandes_nome(\"https://grandesnomesdapropaganda.com.br/tag/brahma/page/2/\")\n",
    "carregar_grandes_nome(\"https://grandesnomesdapropaganda.com.br/tag/brahma/page/3/\")\n",
    "carregar_grandes_nome(\"https://grandesnomesdapropaganda.com.br/tag/brahma/page/4/\")\n",
    "print(len(todas_campanhas))"
   ]
  },
  {
   "cell_type": "code",
   "execution_count": 16,
   "id": "offshore-encounter",
   "metadata": {},
   "outputs": [
    {
     "name": "stdout",
     "output_type": "stream",
     "text": [
      "84\n"
     ]
    }
   ],
   "source": [
    "\n",
    "print(len(todas_campanhas))"
   ]
  },
  {
   "cell_type": "code",
   "execution_count": 19,
   "id": "supported-excuse",
   "metadata": {},
   "outputs": [
    {
     "name": "stdout",
     "output_type": "stream",
     "text": [
      "105\n"
     ]
    }
   ],
   "source": [
    "campanhas_wiki = []\n",
    "campanhas_wiki.append({'link' : 'https://pt.wikipedia.org/wiki/Brahma_(cerveja)', 'conteudo' : '', 'titulo' : 'Um Brinde ao que realmente importa.'})\n",
    "campanhas_wiki.append({'link' : 'https://pt.wikipedia.org/wiki/Brahma_(cerveja)', 'conteudo' : '', 'titulo' : 'Cerveja é assim que se faz.'})\n",
    "campanhas_wiki.append({'link' : 'https://pt.wikipedia.org/wiki/Brahma_(cerveja)', 'conteudo' : '', 'titulo' : 'O sabor de ser mais.'})\n",
    "campanhas_wiki.append({'link' : 'https://pt.wikipedia.org/wiki/Brahma_(cerveja)', 'conteudo' : '', 'titulo' : 'Zero de álcool, tudo de Brahma.'})\n",
    "campanhas_wiki.append({'link' : 'https://pt.wikipedia.org/wiki/Brahma_(cerveja)', 'conteudo' : '', 'titulo' : 'O sabor de ser Brahmeiro.'})\n",
    "campanhas_wiki.append({'link' : 'https://pt.wikipedia.org/wiki/Brahma_(cerveja)', 'conteudo' : '', 'titulo' : 'Ser Brahmeiro é acreditar na vitória.'})\n",
    "campanhas_wiki.append({'link' : 'https://pt.wikipedia.org/wiki/Brahma_(cerveja)', 'conteudo' : '', 'titulo' : 'Z da Brahma todo mundo ama.'})\n",
    "campanhas_wiki.append({'link' : 'https://pt.wikipedia.org/wiki/Brahma_(cerveja)', 'conteudo' : '', 'titulo' : 'Quarta-feira é dia de maldade e depois é do Zeca-feira.'})\n",
    "campanhas_wiki.append({'link' : 'https://pt.wikipedia.org/wiki/Brahma_(cerveja)', 'conteudo' : '', 'titulo' : 'Pediu Brahma, pediu bem.'})\n",
    "campanhas_wiki.append({'link' : 'https://pt.wikipedia.org/wiki/Brahma_(cerveja)', 'conteudo' : '', 'titulo' : 'Todo mundo ama.'})\n",
    "campanhas_wiki.append({'link' : 'https://pt.wikipedia.org/wiki/Brahma_(cerveja)', 'conteudo' : '', 'titulo' : 'Brahma Olé.'})\n",
    "campanhas_wiki.append({'link' : 'https://pt.wikipedia.org/wiki/Brahma_(cerveja)', 'conteudo' : '', 'titulo' : 'Se o bar é bom, o Chopp é Brahma.'})\n",
    "campanhas_wiki.append({'link' : 'https://pt.wikipedia.org/wiki/Brahma_(cerveja)', 'conteudo' : '', 'titulo' : 'A cerveja oficial do Nã Nã Nã Nã.'})\n",
    "campanhas_wiki.append({'link' : 'https://pt.wikipedia.org/wiki/Brahma_(cerveja)', 'conteudo' : '', 'titulo' : 'Refresca até pensamento.'})\n",
    "campanhas_wiki.append({'link' : 'https://pt.wikipedia.org/wiki/Brahma_(cerveja)', 'conteudo' : '', 'titulo' : 'Refresca com Brahma, Brasil!'})\n",
    "campanhas_wiki.append({'link' : 'https://pt.wikipedia.org/wiki/Brahma_(cerveja)', 'conteudo' : '', 'titulo' : 'Brahma TSSSSS.'}) \n",
    "campanhas_wiki.append({'link' : 'https://pt.wikipedia.org/wiki/Brahma_(cerveja)', 'conteudo' : '', 'titulo' : 'A Nº 1.'}) \n",
    "campanhas_wiki.append({'link' : 'https://pt.wikipedia.org/wiki/Brahma_(cerveja)', 'conteudo' : '', 'titulo' : 'Produto de Qualidade.'})\n",
    "campanhas_wiki.append({'link' : 'https://pt.wikipedia.org/wiki/Brahma_(cerveja)', 'conteudo' : '', 'titulo' : 'Brahma Chopp, o sabor número 1.'})\n",
    "campanhas_wiki.append({'link' : 'https://pt.wikipedia.org/wiki/Brahma_(cerveja)', 'conteudo' : '', 'titulo' : 'Sem Brahma não dá.'})\n",
    "campanhas_wiki.append({'link' : 'https://pt.wikipedia.org/wiki/Brahma_(cerveja)', 'conteudo' : '', 'titulo' : 'Brahma Extra, extraordinária.'})\n",
    "todas_campanhas.extend(campanhas_wiki)\n",
    "print(len(todas_campanhas))\n"
   ]
  },
  {
   "cell_type": "code",
   "execution_count": 20,
   "id": "republican-forty",
   "metadata": {},
   "outputs": [
    {
     "name": "stdout",
     "output_type": "stream",
     "text": [
      "110\n"
     ]
    }
   ],
   "source": [
    "campanhas_random = []\n",
    "campanhas_random.append({'link' : 'https://veja.abril.com.br/economia/dez-propagandas-antologicas-de-cerveja/', 'conteudo' : 'No verão de 2000, os famosos siris da Brahma conquistaram o público com o seu conhecido “nãnãnãnã”, ao mostrar o traseiro para um banhista. Os cômicos personagens apareciam trajados com biquínis e  e sungas com direito, inclusive, a marca de sol. A propaganda promovia o bordão “Refresca até pensamento” ', 'titulo' : 'Siri Nãnãnãnã'})\n",
    "campanhas_random.append({'link' : 'https://veja.abril.com.br/economia/dez-propagandas-antologicas-de-cerveja/', 'conteudo' : 'promoveu a canção – e o bordão – “Sou brahmeiro”. Na campanha, ele aparece cantando sobre o cotidiano de acordar cedo, trabalhar, menciona os pais e diz ser grato por ter um lar – numa clara alusão ao brasileiro de classe média, consumidor da marca.', 'titulo' : 'Zeca brahmeiro'})\n",
    "campanhas_random.append({'link' : 'https://veja.abril.com.br/economia/dez-propagandas-antologicas-de-cerveja/', 'conteudo' : 'Em junho de 2001, a Brahma apostou na cômica disputa entre um motorista do caminhão da cervejaria e uma tartaruga por uma lata de cerveja caída no meio de uma estrada. O engraçado é que o animal não apenas ganha a corrida como também “dribla” o motorista, bebe a cerveja e ainda comemora. Ela ficou conhecida como a “Tartaruga da Brahma” e se tornou mascote oficial da marca.', 'titulo' : 'No passo da tartaruga '})\n",
    "todas_campanhas.append({'link' : 'site brahma)', 'conteudo' : 'Fazer a cerveja Brahma que está na mesa dos brasileiros, com ingredientes de qualidade, desde 1888. Isso é o que realmente importa. Para celebrar os 130 anos da Brahma, a Brahma decidiu provar que algumas coisas nunca mudam recriando fotos de consumidores com a cerveja. A comunicação também marca a nova assinatura da marca: “Brahma um brinde ao que realmente importa”', 'titulo' : 'Um brinde ao que realmente importa.'})\n",
    "todas_campanhas.append({'link' : 'site brahma', 'conteudo' : 'A ideia adotada foi criar comerciais que dessem a impressão de liderança do produto, embora a Brahma ainda não fosse líder, de fato. Também foi alterado o rótulo do produto e adotou-se o uso da caneca de chope. Para representar a pedida da cerveja ao garçon surgiu a ideia de utilização de um gesto, representando o número 1. O slogan clássico da marca passou a ser “Pensou cerveja, pediu Brahma Chopp, a número 1”. O sucesso da campanha foi enorme, e o mote da “Brahma Número 1” permaneceu com a marca até o ano de 1997. Confira um dos primeiros vídeos da campanha da “Brahma Número 1”', 'titulo' : 'Brahma, a cerveja número 1.'})\n",
    "todas_campanhas.extend(campanhas_random)\n",
    "print(len(todas_campanhas))"
   ]
  },
  {
   "cell_type": "code",
   "execution_count": 3,
   "id": "civic-literacy",
   "metadata": {},
   "outputs": [],
   "source": [
    "#novas frases cerveja\n",
    "\n",
    "html = requests.get(\"https://www.brejas.com.br/frases-cerveja.shtml\").content\n",
    "\n",
    "soup = BeautifulSoup(html, 'html.parser')\n",
    "\n"
   ]
  },
  {
   "cell_type": "code",
   "execution_count": 4,
   "id": "requested-uganda",
   "metadata": {},
   "outputs": [
    {
     "name": "stdout",
     "output_type": "stream",
     "text": [
      "[{'link': 'https://www.brejas.com.br/frases-cerveja.shtml', 'autor': 'Benjamin Franklin', 'frase': 'A cerveja é a prova viva de que Deus nos ama e nos quer ver felizes.'}, {'link': 'https://www.brejas.com.br/frases-cerveja.shtml', 'autor': 'Ernest Hemmingway', 'frase': 'Faça sempre lúcido o que você disse que faria bêbedo. Isso o ensinará a manter sua boca fechada.'}, {'link': 'https://www.brejas.com.br/frases-cerveja.shtml', 'autor': 'Winston Churchill', 'frase': 'Eu aproveitei mais o álcool do que ele se aproveitou de mim.'}, {'link': 'https://www.brejas.com.br/frases-cerveja.shtml', 'autor': 'Platão', 'frase': 'Era um homem sábio aquele que inventou a cerveja.'}, {'link': 'https://www.brejas.com.br/frases-cerveja.shtml', 'autor': 'Frank Zappa', 'frase': 'Um país não pode ser um país de verdade senão tiver ao menos uma cerveja e uma empresa aérea. Ajuda se tiver uma equipe do futebol, ou armas nucleares, mas o mais importante é a cerveja.'}, {'link': 'https://www.brejas.com.br/frases-cerveja.shtml', 'autor': 'Chico Buarque de Holanda (em Feijoada Completa)', 'frase': 'Salta cerveja estupidamente gelada prum batalhão... e vamos botar água no feijão'}, {'link': 'https://www.brejas.com.br/frases-cerveja.shtml', 'autor': 'David Daye', 'frase': 'Se Deus soubesse que nós beberíamos cerveja, nos teria dado dois estômagos.'}, {'link': 'https://www.brejas.com.br/frases-cerveja.shtml', 'autor': 'Willian Shakespeare (King Henry V)', 'frase': 'Eu daria toda a minha fama por segurança e uma cerveja inglesa.'}, {'link': 'https://www.brejas.com.br/frases-cerveja.shtml', 'autor': '13a lei da Cidade de Augsburg', 'frase': 'Vender uma cerveja ruim é um crime contra o amor cristão.'}, {'link': 'https://www.brejas.com.br/frases-cerveja.shtml', 'autor': 'Charles De Gaulle', 'frase': 'A perfeição não pode ser concebida sem uma forte dose de egoísmo, orgulho, tenacidade e de cerveja.'}, {'link': 'https://www.brejas.com.br/frases-cerveja.shtml', 'autor': 'Henry Lawson', 'frase': 'A cerveja me faz sentir da forma como gostaria de me sentir sem cerveja.'}, {'link': 'https://www.brejas.com.br/frases-cerveja.shtml', 'autor': 'Winston Churchill', 'frase': 'Eu não posso oferecer nada mais que sangue, labuta, suor e cerveja.'}, {'link': 'https://www.brejas.com.br/frases-cerveja.shtml', 'autor': 'Confucius', 'frase': 'Um governo opressivo deve ser mais temido que um tigre ou uma cerveja.'}, {'link': 'https://www.brejas.com.br/frases-cerveja.shtml', 'autor': 'Abraham Lincoln', 'frase': 'Eu sou muito crente nas pessoas. Se houver verdade, podemos superar todas as crises nacionais. O principal são os fatos reais e a cerveja.'}, {'link': 'https://www.brejas.com.br/frases-cerveja.shtml', 'autor': 'Walt Whitman', 'frase': 'Existe uma coisa que me afeta profundamente. Os homens que não acreditam nos seus líderes nem na cerveja.'}, {'link': 'https://www.brejas.com.br/frases-cerveja.shtml', 'autor': \"Willian Shakespeare (A Winter's Tale)\", 'frase': 'Um pouco de cerveja é um prato para um rei.'}, {'link': 'https://www.brejas.com.br/frases-cerveja.shtml', 'autor': 'Dave Barry', 'frase': 'Sem dúvida, a maior invenção da história da humanidade é a cerveja. Eu admito que a roda também é uma grande invenção, mas a roda não desce tão bem com uma pizza.'}, {'link': 'https://www.brejas.com.br/frases-cerveja.shtml', 'autor': 'Kaiser Wilhelm', 'frase': 'Dê-me uma mulher que ame a cerveja e eu conquistarei o mundo.'}, {'link': 'https://www.brejas.com.br/frases-cerveja.shtml', 'autor': 'Homer Simpson', 'frase': 'Eu mataria todos neste quarto por um gole de cerveja.'}, {'link': 'https://www.brejas.com.br/frases-cerveja.shtml', 'autor': 'Dave Barry', 'frase': 'Nem todos os produtos químicos são maus. Sem elementos químicos tais como o hidrogênio e o oxigênio, para o exemplo, não haveria nenhuma maneira fazer água, um ingrediente vital para a cerveja.'}, {'link': 'https://www.brejas.com.br/frases-cerveja.shtml', 'autor': 'Dave Barry', 'frase': 'Eu bebo para fazer as outras pessoas interessantes.'}, {'link': 'https://www.brejas.com.br/frases-cerveja.shtml', 'autor': 'Homer Simpson', 'frase': 'Ok cérebro, eu não gosto de você e você não gosta de mim - assim vamos recomeçar e eu volto para te derrubar com cerveja.'}, {'link': 'https://www.brejas.com.br/frases-cerveja.shtml', 'autor': 'Barney dos Simpsons', 'frase': '“Homer! Estou preocupado com as nossas reservas de cerveja. Depois desta caixa e da outra caixa, só ficamos com mais uma caixa... “'}, {'link': 'https://www.brejas.com.br/frases-cerveja.shtml', 'autor': 'Homer Simpson', 'frase': 'Cervejal: a causa e a solução de todos os problemas da vida.'}]\n"
     ]
    }
   ],
   "source": [
    "frases_famosos = []\n",
    "lista_p = soup.find_all(\"p\", align=\"justify\")\n",
    "for p in lista_p:\n",
    "    quote = {}\n",
    "    quote['link'] = 'https://www.brejas.com.br/frases-cerveja.shtml'\n",
    "    autor = p.strong.text\n",
    "    quote['autor'] = autor.strip()\n",
    "    frase = p.get_text().replace(autor, '').replace('\\n','').replace('\\\"','').strip()\n",
    "    quote['frase'] = frase\n",
    "    frases_famosos.append(quote)\n",
    "print(frases_famosos)"
   ]
  },
  {
   "cell_type": "code",
   "execution_count": 8,
   "id": "clear-taxation",
   "metadata": {},
   "outputs": [],
   "source": [
    "with open('frases_famosos.txt', 'w', encoding='utf8') as outfile:\n",
    "    json.dump(frases_famosos, outfile, ensure_ascii=False)"
   ]
  },
  {
   "cell_type": "code",
   "execution_count": 21,
   "id": "committed-parallel",
   "metadata": {},
   "outputs": [],
   "source": [
    "with open('todas_campanhas.txt', 'w', encoding='utf8') as outfile:\n",
    "    json.dump(todas_campanhas, outfile, ensure_ascii=False)"
   ]
  },
  {
   "cell_type": "code",
   "execution_count": 97,
   "id": "recognized-embassy",
   "metadata": {},
   "outputs": [
    {
     "name": "stdout",
     "output_type": "stream",
     "text": [
      "\n",
      "\n",
      "Brahma leva sua Brahmosidade para o futebol e cria um ano de experiências para os torcedores se aproximarem ainda mais de seus clubes. Com nova campanha, cerveja Nº1 reforça sua relação com os principais clubes do Brasil e suas torcidas, além de mostrar as boas sensações proporcionadas pelo esporte mais amado do país.\n",
      "O gol da vitória nos acréscimos, a marcação favorável após aquela análise no vídeo de um lance polêmico, o título e até mesmo o pênalti perdido pelo adversário… O que não falta no futebol são situações repletas de Brahmosidade. Mas se o momento afastou um pouco os fanáticos de uma de suas principais paixões dentro dos estádios, Brahma entra em campo para mostrar não apenas a cremosidade que só ela tem, mas também para valorizar os bons momentos compartilhados acompanhando o esporte mais amado dos brasileiros.\n",
      "Para apresentar essas situações vividas pelos torcedores e enaltecer a paixão deles pelos clubes do coração, Brahma traz um filme mostrando um momento de tensão que só os apaixonados por futebol entendem, visto por um ângulo bem diferente. A campanha tem criação da agência Africa, e o vídeo é assinado pela Iconoclast Brazil.\n",
      "O filme foi gravado com um braço robótico chamado Bolt, equipamento que chegou recentemente ao Brasil e que executa movimentos complexos de giro e troca de direção com precisão. Essa técnica trouxe fluidez para a filmagem, iniciada em modo reverse e em slow motion, envolvendo gradativamente o espectador à situação que está acontecendo na tela. O acontecimento como um todo só é revelado no fim. A combinação de todos esses elementos cria uma atmosfera distinta, pouco comum para o público na publicidade no geral.\n",
      "“Com o nosso conceito de Brahmosidade, queremos mostrar não apenas a cremosidade que só a Brahma tem, mas também valorizar os bons momentos. Cada vez mais, os torcedores desejam viver experiências únicas com seus times, se aproximando dos jogadores da atualidade e dos ídolos históricos. E a pandemia criou um pouco esse sentimento de saudosismo dos estádios e da proximidade com os clubes. Então, para acabar um pouco com essa saudade, Brahma enaltece esses momentos com toda a paixão envolvida no esporte mais querido dos brasileiros”, afirma Marina Raats, gerente de marketing de Brahma.\n",
      "“Para a Brahma, momentos verdadeiramente cremosos são aqueles que conseguimos desfrutar ao máximo, e foi assim que surgiu o conceito de ‘Brahmosidade’. Para retratar isso no futebol, criamos uma campanha que traduz esse sentimento no melhor momento possível da partida, nesse caso, na comemoração do torcedor quando o time adversário erra um pênalti”, comenta Matias Menendez, ECD da Africa.\n",
      "Futebol com Brahmosidade\n",
      "Para aproximar os torcedores de seus clubes de coração e até mesmo transformar muitos de seus sonhos em realidade, Brahma lança também uma promoção com uma série de experiências para deixar ainda mais especial os momentos de o torcedor acompanhar o seu time.\n",
      "Com a iniciativa “Futebol com Brahmosidade”, os torcedores concorrem a um ano de experiências incríveis com seu clube ou a kits com diversos itens da agremiação. Entre as conquistas principais, o vencedor vai poder: assistir a um jogo direto do gramado ou de uma cadeira cativa no estádio; acompanhar um treino do seu time; receber a delegação no estádio e acompanhar o jogo; ir ao camarote do Maracanã ou do Mineirão com um acompanhante – com direito a open bar; e ser eternizado em uma foto oficial da agremiação.\n",
      "Para concorrer, basta se cadastrar no site: www.brahma.com.br/promofutebol. Quem comprar produtos Brahma e cadastrar o cupom fiscal tem chances em dobro. A iniciativa vale de 25 de maio a 12 de julho e tem a criação da agência Score.\n",
      "Veja:\n",
      "\n",
      " \n"
     ]
    }
   ],
   "source": [
    "print(todas_campanhas[0]['conteudo)"
   ]
  },
  {
   "cell_type": "code",
   "execution_count": null,
   "id": "balanced-weapon",
   "metadata": {},
   "outputs": [],
   "source": []
  }
 ],
 "metadata": {
  "kernelspec": {
   "display_name": "Python 3",
   "language": "python",
   "name": "python3"
  },
  "language_info": {
   "codemirror_mode": {
    "name": "ipython",
    "version": 3
   },
   "file_extension": ".py",
   "mimetype": "text/x-python",
   "name": "python",
   "nbconvert_exporter": "python",
   "pygments_lexer": "ipython3",
   "version": "3.8.2"
  }
 },
 "nbformat": 4,
 "nbformat_minor": 5
}
